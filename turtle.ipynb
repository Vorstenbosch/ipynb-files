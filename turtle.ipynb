{
 "cells": [
  {
   "cell_type": "code",
   "execution_count": null,
   "metadata": {},
   "outputs": [],
   "source": [
    "from turtle import *\n",
    "forward(100)\n",
    "right(144)\n",
    "forward(100)\n",
    "right(144)\n",
    "forward(100)\n",
    "right(144)\n",
    "forward(100)\n",
    "right(144)\n",
    "forward(100)\n",
    "done()"
   ]
  }
 ],
 "metadata": {
  "language_info": {
   "name": "python"
  }
 },
 "nbformat": 4,
 "nbformat_minor": 2
}
