{
 "cells": [
  {
   "cell_type": "code",
   "execution_count": null,
   "metadata": {},
   "outputs": [],
   "source": [
    "from turtle import *\n",
    "turtle.forward(100)\n",
    "turtle.right(144)\n",
    "turtle.forward(100)\n",
    "turtle.right(144)\n",
    "turtle.forward(100)\n",
    "turtle.right(144)\n",
    "turtle.forward(100)\n",
    "turtle.right(144)\n",
    "turtle.forward(100)\n",
    "done()"
   ]
  }
 ],
 "metadata": {
  "language_info": {
   "name": "python"
  }
 },
 "nbformat": 4,
 "nbformat_minor": 2
}
